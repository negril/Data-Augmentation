{
 "cells": [
  {
   "cell_type": "code",
   "execution_count": 3,
   "metadata": {},
   "outputs": [
    {
     "name": "stdout",
     "output_type": "stream",
     "text": [
      "The autoreload extension is already loaded. To reload it, use:\n",
      "  %reload_ext autoreload\n"
     ]
    }
   ],
   "source": [
    "%load_ext autoreload\n",
    "%autoreload 2\n",
    "\n",
    "import torch\n",
    "import torch.nn as nn\n",
    "import numpy as np\n",
    "\n",
    "import pytorch_lightning as pl\n",
    "from pytorch_lightning.callbacks.early_stopping import EarlyStopping\n",
    "from pytorch_lightning.loggers import TensorBoardLogger"
   ]
  },
  {
   "cell_type": "markdown",
   "metadata": {},
   "source": [
    "## Data Loading"
   ]
  },
  {
   "cell_type": "code",
   "execution_count": 15,
   "metadata": {},
   "outputs": [
    {
     "name": "stdout",
     "output_type": "stream",
     "text": [
      "File exists. Loading\n",
      "Selecting location :  chest\n",
      "Windowing\n",
      "Done!\n",
      "[[0.07834402]\n",
      " [0.12517657]\n",
      " [0.02006592]\n",
      " [0.13720164]\n",
      " [0.17530515]\n",
      " [0.15306603]\n",
      " [0.15647072]\n",
      " [0.15436995]] [[0.07496619]\n",
      " [0.1255071 ]\n",
      " [0.01808654]\n",
      " [0.13598715]\n",
      " [0.17494929]\n",
      " [0.15846856]\n",
      " [0.1550879 ]\n",
      " [0.15694726]]\n"
     ]
    }
   ],
   "source": [
    "import helper\n",
    "data = helper.load_RWHAR(sel_location = \"chest\")\n",
    "train_iter, val_iter,train_weight = helper.get_dataloaders(data, batch_size = 128, output_size = 8, val_pc = 0.3)"
   ]
  },
  {
   "cell_type": "code",
   "execution_count": null,
   "metadata": {},
   "outputs": [],
   "source": [
    "from DeepConvLSTM_model import DeepConvNet\n",
    "from Validation_model import Net\n",
    "net = DeepConvNet(in_channels = 6,input_size = 50, hidden_size = 512, output_size = 8, conv_filter = (3,5), conv_padding = (1,2))\n",
    "model = Net(model = net, num_classes = 8, classes_weight = torch.tensor(train_weight, dtype = torch.float), lr = 0.001)\n",
    "\n",
    "trainer = pl.Trainer(gpus=-1,\n",
    "                     max_epochs=100,\n",
    "                    #  limit_train_batches=0.1,\n",
    "                    #  limit_val_batches=0.1,\n",
    "                     log_every_n_steps = 200,\n",
    "                     callbacks = [EarlyStopping(monitor = \"val_f1_score\", patience = 5, mode = \"max\")],\n",
    "                     logger = TensorBoardLogger(save_dir = 'Validation_LSTM_logs/', name = \"RWHAR\"),\n",
    "                     stochastic_weight_avg=True\n",
    "                     )\n",
    "trainer.fit(model, train_iter, val_iter)"
   ]
  },
  {
   "cell_type": "code",
   "execution_count": null,
   "metadata": {},
   "outputs": [],
   "source": [
    "from TransformerClassifier import TransformerClassifier\n",
    "from Validation_model import Net\n",
    "net = TransformerClassifier(in_channels = 6, output_size = 8, d_model = 50, nhead = 5, dim_feedforward = 10000, num_layers = 5)\n",
    "model = Net(model = net, num_classes = 8, classes_weight = torch.tensor(train_weight, dtype = torch.float), lr = 0.01)\n",
    "\n",
    "trainer = pl.Trainer(gpus=-1,\n",
    "                     max_epochs=100,\n",
    "                    #  limit_train_batches=0.1,\n",
    "                    #  limit_val_batches=0.1,\n",
    "                     log_every_n_steps = 200,\n",
    "                     callbacks = [EarlyStopping(monitor = \"val_f1_score\", patience = 7, mode = \"max\")],\n",
    "                     logger = TensorBoardLogger(save_dir = 'Validation_transformer_logs/', name = \"RWHAR\"),\n",
    "                     stochastic_weight_avg=True\n",
    "                     )\n",
    "trainer.fit(model, train_iter, val_iter)"
   ]
  },
  {
   "cell_type": "markdown",
   "metadata": {},
   "source": [
    "## Saved model\n",
    "\n",
    "### Transformer Classifier\n",
    "\n",
    "Version : 3\n",
    "\n",
    "location : Validation_transformer_logs/RWHAR/version_3/checkpoints/epoch=66-step=14471.ckpt\n",
    "\n",
    "F1 score : 88.7%\n",
    "\n",
    "loss : 0.3502\n",
    "\n",
    "in_channels = 6, output_size = 8, d_model = 50, nhead = 5, dim_feedforward = 10000, num_layers = 5\n",
    "\n",
    "### LSTM model\n",
    "\n",
    "version : 1\n",
    "\n",
    "location : Validation_LSTM_logs/RWHAR/version_1/checkpoints/epoch=14-step=3239.ckpt\n",
    "\n",
    "F1 score : 86.22%\n",
    "\n",
    "loss : 0.3768\n",
    "\n",
    "in_channels = 6,input_size = 50, hidden_size = 512, output_size = 8, conv_filter = (3,5), conv_padding = (1,2)\n"
   ]
  },
  {
   "cell_type": "code",
   "execution_count": null,
   "metadata": {},
   "outputs": [],
   "source": []
  }
 ],
 "metadata": {
  "kernelspec": {
   "display_name": "Python 3",
   "language": "python",
   "name": "python3"
  },
  "language_info": {
   "codemirror_mode": {
    "name": "ipython",
    "version": 3
   },
   "file_extension": ".py",
   "mimetype": "text/x-python",
   "name": "python",
   "nbconvert_exporter": "python",
   "pygments_lexer": "ipython3",
   "version": "3.6.9"
  }
 },
 "nbformat": 4,
 "nbformat_minor": 5
}
