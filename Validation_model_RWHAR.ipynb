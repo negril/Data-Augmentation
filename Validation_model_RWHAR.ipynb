{
 "cells": [
  {
   "cell_type": "code",
   "execution_count": null,
   "id": "honey-volunteer",
   "metadata": {},
   "outputs": [],
   "source": [
    "%load_ext autoreload\n",
    "%autoreload 2\n",
    "\n",
    "import torch\n",
    "import torch.nn as nn\n",
    "import numpy as np\n",
    "\n",
    "import pytorch_lightning as pl\n",
    "from pytorch_lightning.metrics.functional.classification import f1_score\n",
    "from pytorch_lightning.callbacks.early_stopping import EarlyStopping\n",
    "from pytorch_lightning.loggers import TensorBoardLogger"
   ]
  },
  {
   "cell_type": "markdown",
   "id": "aggregate-lightning",
   "metadata": {},
   "source": [
    "## Data Loading"
   ]
  },
  {
   "cell_type": "code",
   "execution_count": null,
   "id": "casual-visit",
   "metadata": {},
   "outputs": [],
   "source": [
    "import helper\n",
    "data = helper.load_RWHAR()\n",
    "\n",
    "from dataset import TimeSeriesDataset\n",
    "dtset = TimeSeriesDataset(data)\n",
    "\n",
    "weight = helper.dist(dtset, 7)\n",
    "\n",
    "train, val = helper.split(dtset, val_pc = 0.25)\n",
    "train_weight = helper.dist(train, 7)\n",
    "val_weight = helper.dist(val, 7)\n",
    "print(train_weight, val_weight)\n",
    "train_iter = torch.utils.data.DataLoader(train, batch_size = 32, shuffle = True, num_workers = 8, pin_memory = True)\n",
    "val_iter = torch.utils.data.DataLoader(val, batch_size = 32, num_workers = 8, pin_memory = True)"
   ]
  },
  {
   "cell_type": "code",
   "execution_count": null,
   "id": "spoken-request",
   "metadata": {},
   "outputs": [],
   "source": [
    "# from DeepConvLSTM_model import DeepConvNet\n",
    "\n",
    "# class Net(pl.LightningModule):\n",
    "#     def __init__(self, in_channels = 3,hidden_size = 128, output_size = 7, classes_weight = None):\n",
    "#         super(Net,self).__init__()\n",
    "#         self.model = DeepConvNet(in_channels, hidden_size, output_size)\n",
    "#         self.criterion = nn.CrossEntropyLoss(weight = classes_weight);\n",
    "        \n",
    "#     def forward(self, input_seq):\n",
    "#         return self.model(input_seq)\n",
    "    \n",
    "#     def configure_optimizers(self):\n",
    "#         return torch.optim.Adamax(self.parameters(), lr=0.0001)\n",
    "    \n",
    "#     def training_step(self, batch, batch_idx):\n",
    "#         y_pred = self(batch[\"data\"])\n",
    "#         loss = self.criterion(y_pred, batch[\"label\"])\n",
    "#         self.log('train_loss', loss, on_step = False, on_epoch = True, prog_bar = False, logger = True)\n",
    "#         self.log('train_f1_score', f1_score(y_pred, batch[\"label\"], class_reduction = \"micro\"), on_step = False, on_epoch = True, prog_bar = True, logger = True)\n",
    "#         return loss\n",
    "    \n",
    "#     def validation_step(self, batch, batch_idx):\n",
    "#         y_pred = self(batch[\"data\"])\n",
    "#         loss = self.criterion(y_pred, batch[\"label\"])\n",
    "#         self.log('val_loss', loss, on_step = False, on_epoch = True, prog_bar = False, logger = True)\n",
    "#         self.log('val_f1_score', f1_score(y_pred, batch[\"label\"], class_reduction = \"micro\"), on_step = False, on_epoch = True, prog_bar = True, logger = True)\n",
    "#         return loss"
   ]
  },
  {
   "cell_type": "code",
   "execution_count": null,
   "id": "vocal-major",
   "metadata": {},
   "outputs": [],
   "source": [
    "from DeepConvLSTM_model import DeepConvNet\n",
    "from Validation_model import Net\n",
    "net = DeepConvNet(inchannels = 6, hidden_size = 256, output_size = 8)\n",
    "model = Net(model = net, classes_weight = torch.tensor(train_weight, dtype = torch.float))\n",
    "\n",
    "trainer = pl.Trainer(gpus=-1,\n",
    "                     max_epochs=20,\n",
    "                    #  limit_train_batches=0.1,\n",
    "                    #  limit_val_batches=0.1,\n",
    "                     log_every_n_steps = 200,\n",
    "                     callbacks = [EarlyStopping(monitor = \"val_f1_score\", patience = 3, mode = \"max\")],\n",
    "                     logger = TensorBoardLogger(save_dir = 'logs/', name = \"PAMAP2_LSTM_model\"),\n",
    "                     )\n",
    "trainer.fit(model, train_iter, val_iter)"
   ]
  }
 ],
 "metadata": {
  "kernelspec": {
   "display_name": "Python 3",
   "language": "python",
   "name": "python3"
  },
  "language_info": {
   "codemirror_mode": {
    "name": "ipython",
    "version": 3
   },
   "file_extension": ".py",
   "mimetype": "text/x-python",
   "name": "python",
   "nbconvert_exporter": "python",
   "pygments_lexer": "ipython3",
   "version": "3.9.1"
  }
 },
 "nbformat": 4,
 "nbformat_minor": 5
}
