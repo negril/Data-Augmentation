{
 "cells": [
  {
   "cell_type": "code",
   "execution_count": 1,
   "metadata": {},
   "outputs": [],
   "source": [
    "%load_ext autoreload\n",
    "%autoreload 2\n",
    "\n",
    "import torch\n",
    "import torch.nn as nn\n",
    "import numpy as np\n",
    "\n",
    "import pytorch_lightning as pl\n",
    "from pytorch_lightning.metrics.functional.classification import f1_score, confusion_matrix\n",
    "from pytorch_lightning.callbacks.early_stopping import EarlyStopping\n",
    "from pytorch_lightning.loggers import TensorBoardLogger"
   ]
  },
  {
   "cell_type": "markdown",
   "metadata": {},
   "source": [
    "## Data Loading"
   ]
  },
  {
   "cell_type": "code",
   "execution_count": 2,
   "metadata": {
    "scrolled": true
   },
   "outputs": [
    {
     "name": "stdout",
     "output_type": "stream",
     "text": [
      "File exists. Loading\n",
      "Windowing\n",
      "Done!\n",
      "[[0.15550523]\n",
      " [0.14827995]\n",
      " [0.15539739]\n",
      " [0.18516122]\n",
      " [0.07753694]\n",
      " [0.12757468]\n",
      " [0.15054459]] [[0.15436893]\n",
      " [0.15145631]\n",
      " [0.14401294]\n",
      " [0.18640777]\n",
      " [0.07540453]\n",
      " [0.14433657]\n",
      " [0.14401294]]\n"
     ]
    }
   ],
   "source": [
    "import helper\n",
    "data = helper.load_PAMAP2()\n",
    "\n",
    "from dataset import TimeSeriesDataset\n",
    "dtset = TimeSeriesDataset(data)\n",
    "\n",
    "weight = helper.dist(dtset, 7)\n",
    "\n",
    "train, val = helper.split(dtset, val_pc = 0.25)\n",
    "train_weight = helper.dist(train, 7)\n",
    "val_weight = helper.dist(val, 7)\n",
    "print(train_weight, val_weight)\n",
    "train_iter = torch.utils.data.DataLoader(train, batch_size = 32, shuffle = True, num_workers = 8, pin_memory = True)\n",
    "val_iter = torch.utils.data.DataLoader(val, batch_size = 32, num_workers = 8, pin_memory = True)"
   ]
  },
  {
   "cell_type": "markdown",
   "metadata": {},
   "source": [
    "## Training DeepConvLSTM model"
   ]
  },
  {
   "cell_type": "code",
   "execution_count": 6,
   "metadata": {},
   "outputs": [
    {
     "name": "stderr",
     "output_type": "stream",
     "text": [
      "GPU available: True, used: True\n",
      "TPU available: False, using: 0 TPU cores\n",
      "LOCAL_RANK: 0 - CUDA_VISIBLE_DEVICES: [0]\n",
      "\n",
      "  | Name      | Type             | Params\n",
      "-----------------------------------------------\n",
      "0 | model     | DeepConvNet      | 3 M   \n",
      "1 | criterion | CrossEntropyLoss | 0     \n"
     ]
    },
    {
     "data": {
      "application/vnd.jupyter.widget-view+json": {
       "model_id": "",
       "version_major": 2,
       "version_minor": 0
      },
      "text/plain": [
       "HBox(children=(FloatProgress(value=1.0, bar_style='info', description='Validation sanity check', layout=Layout…"
      ]
     },
     "metadata": {},
     "output_type": "display_data"
    },
    {
     "data": {
      "application/vnd.jupyter.widget-view+json": {
       "model_id": "4ea68d18450540698802dd9a2071dfdb",
       "version_major": 2,
       "version_minor": 0
      },
      "text/plain": [
       "HBox(children=(FloatProgress(value=1.0, bar_style='info', description='Training', layout=Layout(flex='2'), max…"
      ]
     },
     "metadata": {},
     "output_type": "display_data"
    },
    {
     "data": {
      "application/vnd.jupyter.widget-view+json": {
       "model_id": "",
       "version_major": 2,
       "version_minor": 0
      },
      "text/plain": [
       "HBox(children=(FloatProgress(value=1.0, bar_style='info', description='Validating', layout=Layout(flex='2'), m…"
      ]
     },
     "metadata": {},
     "output_type": "display_data"
    },
    {
     "name": "stdout",
     "output_type": "stream",
     "text": [
      "\n"
     ]
    },
    {
     "data": {
      "text/plain": [
       "1"
      ]
     },
     "execution_count": 6,
     "metadata": {},
     "output_type": "execute_result"
    }
   ],
   "source": [
    "from DeepConvLSTM_model import DeepConvNet\n",
    "from Validation_model import Net\n",
    "net = DeepConvNet(in_channels = 3, hidden_size = 256, output_size = 7)\n",
    "model = Net(model = net, classes_weight = torch.tensor(train_weight, dtype = torch.float))\n",
    "\n",
    "trainer = pl.Trainer(gpus=-1,\n",
    "                     max_epochs=20,\n",
    "                    #  limit_train_batches=0.1,\n",
    "                    #  limit_val_batches=0.1,\n",
    "                     log_every_n_steps = 200,\n",
    "                     callbacks = [EarlyStopping(monitor = \"val_f1_score\", patience = 3, mode = \"max\")],\n",
    "                     logger = TensorBoardLogger(save_dir = 'logs/', name = \"PAMAP2_LSTM_model\"),\n",
    "                     )\n",
    "trainer.fit(model, train_iter, val_iter)"
   ]
  },
  {
   "cell_type": "markdown",
   "metadata": {},
   "source": [
    "## Validation"
   ]
  },
  {
   "cell_type": "code",
   "execution_count": 10,
   "metadata": {},
   "outputs": [
    {
     "name": "stdout",
     "output_type": "stream",
     "text": [
      "Loss :  tensor(0.0451, grad_fn=<NllLossBackward>) \t\t F1 score :  tensor(0.9688) \n",
      "\n",
      "Loss :  tensor(0.0456, grad_fn=<NllLossBackward>) \t\t F1 score :  tensor(1.) \n",
      "\n",
      "Loss :  tensor(0.0070, grad_fn=<NllLossBackward>) \t\t F1 score :  tensor(1.) \n",
      "\n",
      "Loss :  tensor(0.0637, grad_fn=<NllLossBackward>) \t\t F1 score :  tensor(0.9688) \n",
      "\n",
      "Loss :  tensor(0.0704, grad_fn=<NllLossBackward>) \t\t F1 score :  tensor(0.9688) \n",
      "\n",
      "Loss :  tensor(0.0293, grad_fn=<NllLossBackward>) \t\t F1 score :  tensor(0.9688) \n",
      "\n",
      "Loss :  tensor(0.0059, grad_fn=<NllLossBackward>) \t\t F1 score :  tensor(1.) \n",
      "\n",
      "Loss :  tensor(0.0263, grad_fn=<NllLossBackward>) \t\t F1 score :  tensor(1.) \n",
      "\n",
      "Loss :  tensor(0.1317, grad_fn=<NllLossBackward>) \t\t F1 score :  tensor(0.9688) \n",
      "\n",
      "Loss :  tensor(0.0040, grad_fn=<NllLossBackward>) \t\t F1 score :  tensor(1.) \n",
      "\n",
      "Loss :  tensor(0.2212, grad_fn=<NllLossBackward>) \t\t F1 score :  tensor(0.9688) \n",
      "\n",
      "Loss :  tensor(0.0449, grad_fn=<NllLossBackward>) \t\t F1 score :  tensor(0.9688) \n",
      "\n",
      "Loss :  tensor(0.0008, grad_fn=<NllLossBackward>) \t\t F1 score :  tensor(1.) \n",
      "\n",
      "Loss :  tensor(0.1031, grad_fn=<NllLossBackward>) \t\t F1 score :  tensor(0.9688) \n",
      "\n",
      "Loss :  tensor(0.0023, grad_fn=<NllLossBackward>) \t\t F1 score :  tensor(1.) \n",
      "\n",
      "Loss :  tensor(0.3288, grad_fn=<NllLossBackward>) \t\t F1 score :  tensor(0.9375) \n",
      "\n",
      "Loss :  tensor(0.0146, grad_fn=<NllLossBackward>) \t\t F1 score :  tensor(1.) \n",
      "\n",
      "Loss :  tensor(0.0162, grad_fn=<NllLossBackward>) \t\t F1 score :  tensor(1.) \n",
      "\n",
      "Loss :  tensor(0.0646, grad_fn=<NllLossBackward>) \t\t F1 score :  tensor(0.9688) \n",
      "\n",
      "Loss :  tensor(0.0900, grad_fn=<NllLossBackward>) \t\t F1 score :  tensor(0.9688) \n",
      "\n",
      "Loss :  tensor(0.1108, grad_fn=<NllLossBackward>) \t\t F1 score :  tensor(0.9688) \n",
      "\n",
      "Loss :  tensor(0.0406, grad_fn=<NllLossBackward>) \t\t F1 score :  tensor(1.) \n",
      "\n",
      "Loss :  tensor(0.4193, grad_fn=<NllLossBackward>) \t\t F1 score :  tensor(0.9375) \n",
      "\n",
      "Loss :  tensor(0.4716, grad_fn=<NllLossBackward>) \t\t F1 score :  tensor(0.9062) \n",
      "\n",
      "Loss :  tensor(0.0032, grad_fn=<NllLossBackward>) \t\t F1 score :  tensor(1.) \n",
      "\n",
      "Loss :  tensor(0.1482, grad_fn=<NllLossBackward>) \t\t F1 score :  tensor(0.9062) \n",
      "\n",
      "Loss :  tensor(0.2829, grad_fn=<NllLossBackward>) \t\t F1 score :  tensor(0.9688) \n",
      "\n",
      "Loss :  tensor(0.0140, grad_fn=<NllLossBackward>) \t\t F1 score :  tensor(1.) \n",
      "\n",
      "Loss :  tensor(0.0089, grad_fn=<NllLossBackward>) \t\t F1 score :  tensor(1.) \n",
      "\n",
      "Loss :  tensor(0.0985, grad_fn=<NllLossBackward>) \t\t F1 score :  tensor(0.9375) \n",
      "\n",
      "Loss :  tensor(0.0038, grad_fn=<NllLossBackward>) \t\t F1 score :  tensor(1.) \n",
      "\n",
      "Loss :  tensor(0.6322, grad_fn=<NllLossBackward>) \t\t F1 score :  tensor(0.9375) \n",
      "\n",
      "Loss :  tensor(0.0156, grad_fn=<NllLossBackward>) \t\t F1 score :  tensor(1.) \n",
      "\n",
      "Loss :  tensor(0.0057, grad_fn=<NllLossBackward>) \t\t F1 score :  tensor(1.) \n",
      "\n",
      "Loss :  tensor(0.0529, grad_fn=<NllLossBackward>) \t\t F1 score :  tensor(0.9688) \n",
      "\n",
      "Loss :  tensor(0.3217, grad_fn=<NllLossBackward>) \t\t F1 score :  tensor(0.9062) \n",
      "\n",
      "Loss :  tensor(0.0385, grad_fn=<NllLossBackward>) \t\t F1 score :  tensor(0.9688) \n",
      "\n",
      "Loss :  tensor(0.0265, grad_fn=<NllLossBackward>) \t\t F1 score :  tensor(1.) \n",
      "\n",
      "Loss :  tensor(0.3343, grad_fn=<NllLossBackward>) \t\t F1 score :  tensor(0.9375) \n",
      "\n",
      "Loss :  tensor(0.0012, grad_fn=<NllLossBackward>) \t\t F1 score :  tensor(1.) \n",
      "\n",
      "Loss :  tensor(0.0016, grad_fn=<NllLossBackward>) \t\t F1 score :  tensor(1.) \n",
      "\n",
      "Loss :  tensor(0.0451, grad_fn=<NllLossBackward>) \t\t F1 score :  tensor(1.) \n",
      "\n",
      "Loss :  tensor(0.1237, grad_fn=<NllLossBackward>) \t\t F1 score :  tensor(0.9375) \n",
      "\n",
      "Loss :  tensor(0.0214, grad_fn=<NllLossBackward>) \t\t F1 score :  tensor(1.) \n",
      "\n",
      "Loss :  tensor(0.0091, grad_fn=<NllLossBackward>) \t\t F1 score :  tensor(1.) \n",
      "\n",
      "Loss :  tensor(0.0970, grad_fn=<NllLossBackward>) \t\t F1 score :  tensor(0.9375) \n",
      "\n",
      "Loss :  tensor(0.0045, grad_fn=<NllLossBackward>) \t\t F1 score :  tensor(1.) \n",
      "\n",
      "Loss :  tensor(0.0016, grad_fn=<NllLossBackward>) \t\t F1 score :  tensor(1.) \n",
      "\n",
      "Loss :  tensor(0.1458, grad_fn=<NllLossBackward>) \t\t F1 score :  tensor(0.9688) \n",
      "\n",
      "Loss :  tensor(0.0377, grad_fn=<NllLossBackward>) \t\t F1 score :  tensor(1.) \n",
      "\n",
      "Loss :  tensor(0.2182, grad_fn=<NllLossBackward>) \t\t F1 score :  tensor(0.9375) \n",
      "\n",
      "Loss :  tensor(0.0452, grad_fn=<NllLossBackward>) \t\t F1 score :  tensor(0.9688) \n",
      "\n",
      "Loss :  tensor(0.0243, grad_fn=<NllLossBackward>) \t\t F1 score :  tensor(0.9688) \n",
      "\n",
      "Loss :  tensor(0.1200, grad_fn=<NllLossBackward>) \t\t F1 score :  tensor(0.9375) \n",
      "\n",
      "Loss :  tensor(0.0515, grad_fn=<NllLossBackward>) \t\t F1 score :  tensor(0.9688) \n",
      "\n",
      "Loss :  tensor(0.0418, grad_fn=<NllLossBackward>) \t\t F1 score :  tensor(0.9688) \n",
      "\n",
      "Loss :  tensor(0.0070, grad_fn=<NllLossBackward>) \t\t F1 score :  tensor(1.) \n",
      "\n",
      "Loss :  tensor(0.0552, grad_fn=<NllLossBackward>) \t\t F1 score :  tensor(0.9688) \n",
      "\n",
      "Loss :  tensor(0.2951, grad_fn=<NllLossBackward>) \t\t F1 score :  tensor(0.9688) \n",
      "\n",
      "Loss :  tensor(0.0881, grad_fn=<NllLossBackward>) \t\t F1 score :  tensor(0.9375) \n",
      "\n",
      "Loss :  tensor(0.0866, grad_fn=<NllLossBackward>) \t\t F1 score :  tensor(0.9688) \n",
      "\n",
      "Loss :  tensor(0.0536, grad_fn=<NllLossBackward>) \t\t F1 score :  tensor(0.9688) \n",
      "\n",
      "Loss :  tensor(0.0006, grad_fn=<NllLossBackward>) \t\t F1 score :  tensor(1.) \n",
      "\n",
      "Loss :  tensor(0.0235, grad_fn=<NllLossBackward>) \t\t F1 score :  tensor(1.) \n",
      "\n",
      "Loss :  tensor(0.3285, grad_fn=<NllLossBackward>) \t\t F1 score :  tensor(0.9062) \n",
      "\n",
      "Loss :  tensor(0.0061, grad_fn=<NllLossBackward>) \t\t F1 score :  tensor(1.) \n",
      "\n",
      "Loss :  tensor(0.0780, grad_fn=<NllLossBackward>) \t\t F1 score :  tensor(0.9688) \n",
      "\n",
      "Loss :  tensor(0.1295, grad_fn=<NllLossBackward>) \t\t F1 score :  tensor(0.9688) \n",
      "\n",
      "Loss :  tensor(0.0240, grad_fn=<NllLossBackward>) \t\t F1 score :  tensor(1.) \n",
      "\n",
      "Loss :  tensor(0.0658, grad_fn=<NllLossBackward>) \t\t F1 score :  tensor(0.9688) \n",
      "\n",
      "Loss :  tensor(0.0221, grad_fn=<NllLossBackward>) \t\t F1 score :  tensor(1.) \n",
      "\n",
      "Loss :  tensor(0.0173, grad_fn=<NllLossBackward>) \t\t F1 score :  tensor(1.) \n",
      "\n",
      "Loss :  tensor(0.1849, grad_fn=<NllLossBackward>) \t\t F1 score :  tensor(0.9375) \n",
      "\n",
      "Loss :  tensor(0.0970, grad_fn=<NllLossBackward>) \t\t F1 score :  tensor(0.9688) \n",
      "\n",
      "Loss :  tensor(0.0344, grad_fn=<NllLossBackward>) \t\t F1 score :  tensor(0.9688) \n",
      "\n",
      "Loss :  tensor(0.0061, grad_fn=<NllLossBackward>) \t\t F1 score :  tensor(1.) \n",
      "\n",
      "Loss :  tensor(0.0017, grad_fn=<NllLossBackward>) \t\t F1 score :  tensor(1.) \n",
      "\n",
      "Loss :  tensor(0.1399, grad_fn=<NllLossBackward>) \t\t F1 score :  tensor(0.9688) \n",
      "\n",
      "Loss :  tensor(0.0827, grad_fn=<NllLossBackward>) \t\t F1 score :  tensor(0.9688) \n",
      "\n",
      "Loss :  tensor(0.0225, grad_fn=<NllLossBackward>) \t\t F1 score :  tensor(1.) \n",
      "\n",
      "Loss :  tensor(0.0819, grad_fn=<NllLossBackward>) \t\t F1 score :  tensor(0.9688) \n",
      "\n",
      "Loss :  tensor(0.0111, grad_fn=<NllLossBackward>) \t\t F1 score :  tensor(1.) \n",
      "\n",
      "Loss :  tensor(0.1848, grad_fn=<NllLossBackward>) \t\t F1 score :  tensor(0.9688) \n",
      "\n",
      "Loss :  tensor(0.0196, grad_fn=<NllLossBackward>) \t\t F1 score :  tensor(1.) \n",
      "\n",
      "Loss :  tensor(0.1512, grad_fn=<NllLossBackward>) \t\t F1 score :  tensor(0.9688) \n",
      "\n",
      "Loss :  tensor(0.0413, grad_fn=<NllLossBackward>) \t\t F1 score :  tensor(0.9688) \n",
      "\n",
      "Loss :  tensor(0.3044, grad_fn=<NllLossBackward>) \t\t F1 score :  tensor(0.9688) \n",
      "\n",
      "Loss :  tensor(0.0061, grad_fn=<NllLossBackward>) \t\t F1 score :  tensor(1.) \n",
      "\n",
      "Loss :  tensor(0.0786, grad_fn=<NllLossBackward>) \t\t F1 score :  tensor(0.9688) \n",
      "\n",
      "Loss :  tensor(0.0028, grad_fn=<NllLossBackward>) \t\t F1 score :  tensor(1.) \n",
      "\n",
      "Loss :  tensor(0.3233, grad_fn=<NllLossBackward>) \t\t F1 score :  tensor(0.9688) \n",
      "\n",
      "Loss :  tensor(0.0037, grad_fn=<NllLossBackward>) \t\t F1 score :  tensor(1.) \n",
      "\n",
      "Loss :  tensor(0.0028, grad_fn=<NllLossBackward>) \t\t F1 score :  tensor(1.) \n",
      "\n",
      "Loss :  tensor(0.1425, grad_fn=<NllLossBackward>) \t\t F1 score :  tensor(0.9375) \n",
      "\n",
      "Loss :  tensor(0.0074, grad_fn=<NllLossBackward>) \t\t F1 score :  tensor(1.) \n",
      "\n",
      "Loss :  tensor(0.2383, grad_fn=<NllLossBackward>) \t\t F1 score :  tensor(0.9375) \n",
      "\n",
      "Loss :  tensor(0.1104, grad_fn=<NllLossBackward>) \t\t F1 score :  tensor(0.9444) \n",
      "\n"
     ]
    }
   ],
   "source": [
    "from TransformerClassifier import TransformerClassifier\n",
    "val_model = TransformerClassifier(in_channels = 27, output_size = 7, d_model = 100, nhead = 1, dim_feedforward = 4096,)\n",
    "# val_model = DeepConvNet(hidden_size = 256)\n",
    "# state_dict = torch.load(\"logs/PAMAP2_LSTM_model/version_2/checkpoints/epoch=8.ckpt\")[\"state_dict\"]\n",
    "state_dict = torch.load(\"val_model_transformer.ckpt\")[\"state_dict\"]\n",
    "state_dict = helper.remove_prefix_from_dict(\"model.\", state_dict)\n",
    "val_model.load_state_dict(state_dict, strict = False)\n",
    "val_model.eval()\n",
    "crit = nn.CrossEntropyLoss()\n",
    "\n",
    "for batch in val_iter:\n",
    "    data = batch[\"data\"]\n",
    "    label = batch[\"label\"]\n",
    "    output = val_model(data)\n",
    "    val_loss = crit(output, label)\n",
    "    print(\"Loss : \", val_loss, \"\\t\\t F1 score : \", f1_score(output, label, class_reduction = \"micro\"), \"\\n\")"
   ]
  },
  {
   "cell_type": "markdown",
   "metadata": {},
   "source": [
    "## Training Transformer classifier"
   ]
  },
  {
   "cell_type": "code",
   "execution_count": 11,
   "metadata": {},
   "outputs": [
    {
     "name": "stderr",
     "output_type": "stream",
     "text": [
      "GPU available: True, used: True\n",
      "TPU available: False, using: 0 TPU cores\n",
      "LOCAL_RANK: 0 - CUDA_VISIBLE_DEVICES: [0]\n",
      "\n",
      "  | Name      | Type                  | Params\n",
      "----------------------------------------------------\n",
      "0 | model     | TransformerClassifier | 984 K \n",
      "1 | criterion | CrossEntropyLoss      | 0     \n"
     ]
    },
    {
     "data": {
      "application/vnd.jupyter.widget-view+json": {
       "model_id": "",
       "version_major": 2,
       "version_minor": 0
      },
      "text/plain": [
       "HBox(children=(FloatProgress(value=1.0, bar_style='info', description='Validation sanity check', layout=Layout…"
      ]
     },
     "metadata": {},
     "output_type": "display_data"
    },
    {
     "data": {
      "application/vnd.jupyter.widget-view+json": {
       "model_id": "21e8ee86f85e4211bfe0eb356243cd2b",
       "version_major": 2,
       "version_minor": 0
      },
      "text/plain": [
       "HBox(children=(FloatProgress(value=1.0, bar_style='info', description='Training', layout=Layout(flex='2'), max…"
      ]
     },
     "metadata": {},
     "output_type": "display_data"
    },
    {
     "data": {
      "application/vnd.jupyter.widget-view+json": {
       "model_id": "",
       "version_major": 2,
       "version_minor": 0
      },
      "text/plain": [
       "HBox(children=(FloatProgress(value=1.0, bar_style='info', description='Validating', layout=Layout(flex='2'), m…"
      ]
     },
     "metadata": {},
     "output_type": "display_data"
    },
    {
     "data": {
      "application/vnd.jupyter.widget-view+json": {
       "model_id": "",
       "version_major": 2,
       "version_minor": 0
      },
      "text/plain": [
       "HBox(children=(FloatProgress(value=1.0, bar_style='info', description='Validating', layout=Layout(flex='2'), m…"
      ]
     },
     "metadata": {},
     "output_type": "display_data"
    },
    {
     "data": {
      "application/vnd.jupyter.widget-view+json": {
       "model_id": "",
       "version_major": 2,
       "version_minor": 0
      },
      "text/plain": [
       "HBox(children=(FloatProgress(value=1.0, bar_style='info', description='Validating', layout=Layout(flex='2'), m…"
      ]
     },
     "metadata": {},
     "output_type": "display_data"
    },
    {
     "data": {
      "application/vnd.jupyter.widget-view+json": {
       "model_id": "",
       "version_major": 2,
       "version_minor": 0
      },
      "text/plain": [
       "HBox(children=(FloatProgress(value=1.0, bar_style='info', description='Validating', layout=Layout(flex='2'), m…"
      ]
     },
     "metadata": {},
     "output_type": "display_data"
    },
    {
     "data": {
      "application/vnd.jupyter.widget-view+json": {
       "model_id": "",
       "version_major": 2,
       "version_minor": 0
      },
      "text/plain": [
       "HBox(children=(FloatProgress(value=1.0, bar_style='info', description='Validating', layout=Layout(flex='2'), m…"
      ]
     },
     "metadata": {},
     "output_type": "display_data"
    },
    {
     "data": {
      "application/vnd.jupyter.widget-view+json": {
       "model_id": "",
       "version_major": 2,
       "version_minor": 0
      },
      "text/plain": [
       "HBox(children=(FloatProgress(value=1.0, bar_style='info', description='Validating', layout=Layout(flex='2'), m…"
      ]
     },
     "metadata": {},
     "output_type": "display_data"
    },
    {
     "data": {
      "application/vnd.jupyter.widget-view+json": {
       "model_id": "",
       "version_major": 2,
       "version_minor": 0
      },
      "text/plain": [
       "HBox(children=(FloatProgress(value=1.0, bar_style='info', description='Validating', layout=Layout(flex='2'), m…"
      ]
     },
     "metadata": {},
     "output_type": "display_data"
    },
    {
     "data": {
      "application/vnd.jupyter.widget-view+json": {
       "model_id": "",
       "version_major": 2,
       "version_minor": 0
      },
      "text/plain": [
       "HBox(children=(FloatProgress(value=1.0, bar_style='info', description='Validating', layout=Layout(flex='2'), m…"
      ]
     },
     "metadata": {},
     "output_type": "display_data"
    },
    {
     "data": {
      "application/vnd.jupyter.widget-view+json": {
       "model_id": "",
       "version_major": 2,
       "version_minor": 0
      },
      "text/plain": [
       "HBox(children=(FloatProgress(value=1.0, bar_style='info', description='Validating', layout=Layout(flex='2'), m…"
      ]
     },
     "metadata": {},
     "output_type": "display_data"
    },
    {
     "data": {
      "application/vnd.jupyter.widget-view+json": {
       "model_id": "",
       "version_major": 2,
       "version_minor": 0
      },
      "text/plain": [
       "HBox(children=(FloatProgress(value=1.0, bar_style='info', description='Validating', layout=Layout(flex='2'), m…"
      ]
     },
     "metadata": {},
     "output_type": "display_data"
    },
    {
     "data": {
      "application/vnd.jupyter.widget-view+json": {
       "model_id": "",
       "version_major": 2,
       "version_minor": 0
      },
      "text/plain": [
       "HBox(children=(FloatProgress(value=1.0, bar_style='info', description='Validating', layout=Layout(flex='2'), m…"
      ]
     },
     "metadata": {},
     "output_type": "display_data"
    },
    {
     "data": {
      "application/vnd.jupyter.widget-view+json": {
       "model_id": "",
       "version_major": 2,
       "version_minor": 0
      },
      "text/plain": [
       "HBox(children=(FloatProgress(value=1.0, bar_style='info', description='Validating', layout=Layout(flex='2'), m…"
      ]
     },
     "metadata": {},
     "output_type": "display_data"
    },
    {
     "data": {
      "application/vnd.jupyter.widget-view+json": {
       "model_id": "",
       "version_major": 2,
       "version_minor": 0
      },
      "text/plain": [
       "HBox(children=(FloatProgress(value=1.0, bar_style='info', description='Validating', layout=Layout(flex='2'), m…"
      ]
     },
     "metadata": {},
     "output_type": "display_data"
    },
    {
     "data": {
      "application/vnd.jupyter.widget-view+json": {
       "model_id": "",
       "version_major": 2,
       "version_minor": 0
      },
      "text/plain": [
       "HBox(children=(FloatProgress(value=1.0, bar_style='info', description='Validating', layout=Layout(flex='2'), m…"
      ]
     },
     "metadata": {},
     "output_type": "display_data"
    },
    {
     "data": {
      "application/vnd.jupyter.widget-view+json": {
       "model_id": "",
       "version_major": 2,
       "version_minor": 0
      },
      "text/plain": [
       "HBox(children=(FloatProgress(value=1.0, bar_style='info', description='Validating', layout=Layout(flex='2'), m…"
      ]
     },
     "metadata": {},
     "output_type": "display_data"
    },
    {
     "data": {
      "application/vnd.jupyter.widget-view+json": {
       "model_id": "",
       "version_major": 2,
       "version_minor": 0
      },
      "text/plain": [
       "HBox(children=(FloatProgress(value=1.0, bar_style='info', description='Validating', layout=Layout(flex='2'), m…"
      ]
     },
     "metadata": {},
     "output_type": "display_data"
    },
    {
     "data": {
      "application/vnd.jupyter.widget-view+json": {
       "model_id": "",
       "version_major": 2,
       "version_minor": 0
      },
      "text/plain": [
       "HBox(children=(FloatProgress(value=1.0, bar_style='info', description='Validating', layout=Layout(flex='2'), m…"
      ]
     },
     "metadata": {},
     "output_type": "display_data"
    },
    {
     "data": {
      "application/vnd.jupyter.widget-view+json": {
       "model_id": "",
       "version_major": 2,
       "version_minor": 0
      },
      "text/plain": [
       "HBox(children=(FloatProgress(value=1.0, bar_style='info', description='Validating', layout=Layout(flex='2'), m…"
      ]
     },
     "metadata": {},
     "output_type": "display_data"
    },
    {
     "data": {
      "application/vnd.jupyter.widget-view+json": {
       "model_id": "",
       "version_major": 2,
       "version_minor": 0
      },
      "text/plain": [
       "HBox(children=(FloatProgress(value=1.0, bar_style='info', description='Validating', layout=Layout(flex='2'), m…"
      ]
     },
     "metadata": {},
     "output_type": "display_data"
    },
    {
     "data": {
      "application/vnd.jupyter.widget-view+json": {
       "model_id": "",
       "version_major": 2,
       "version_minor": 0
      },
      "text/plain": [
       "HBox(children=(FloatProgress(value=1.0, bar_style='info', description='Validating', layout=Layout(flex='2'), m…"
      ]
     },
     "metadata": {},
     "output_type": "display_data"
    },
    {
     "data": {
      "application/vnd.jupyter.widget-view+json": {
       "model_id": "",
       "version_major": 2,
       "version_minor": 0
      },
      "text/plain": [
       "HBox(children=(FloatProgress(value=1.0, bar_style='info', description='Validating', layout=Layout(flex='2'), m…"
      ]
     },
     "metadata": {},
     "output_type": "display_data"
    },
    {
     "data": {
      "application/vnd.jupyter.widget-view+json": {
       "model_id": "",
       "version_major": 2,
       "version_minor": 0
      },
      "text/plain": [
       "HBox(children=(FloatProgress(value=1.0, bar_style='info', description='Validating', layout=Layout(flex='2'), m…"
      ]
     },
     "metadata": {},
     "output_type": "display_data"
    },
    {
     "data": {
      "application/vnd.jupyter.widget-view+json": {
       "model_id": "",
       "version_major": 2,
       "version_minor": 0
      },
      "text/plain": [
       "HBox(children=(FloatProgress(value=1.0, bar_style='info', description='Validating', layout=Layout(flex='2'), m…"
      ]
     },
     "metadata": {},
     "output_type": "display_data"
    },
    {
     "data": {
      "application/vnd.jupyter.widget-view+json": {
       "model_id": "",
       "version_major": 2,
       "version_minor": 0
      },
      "text/plain": [
       "HBox(children=(FloatProgress(value=1.0, bar_style='info', description='Validating', layout=Layout(flex='2'), m…"
      ]
     },
     "metadata": {},
     "output_type": "display_data"
    },
    {
     "data": {
      "application/vnd.jupyter.widget-view+json": {
       "model_id": "",
       "version_major": 2,
       "version_minor": 0
      },
      "text/plain": [
       "HBox(children=(FloatProgress(value=1.0, bar_style='info', description='Validating', layout=Layout(flex='2'), m…"
      ]
     },
     "metadata": {},
     "output_type": "display_data"
    },
    {
     "data": {
      "application/vnd.jupyter.widget-view+json": {
       "model_id": "",
       "version_major": 2,
       "version_minor": 0
      },
      "text/plain": [
       "HBox(children=(FloatProgress(value=1.0, bar_style='info', description='Validating', layout=Layout(flex='2'), m…"
      ]
     },
     "metadata": {},
     "output_type": "display_data"
    },
    {
     "data": {
      "application/vnd.jupyter.widget-view+json": {
       "model_id": "",
       "version_major": 2,
       "version_minor": 0
      },
      "text/plain": [
       "HBox(children=(FloatProgress(value=1.0, bar_style='info', description='Validating', layout=Layout(flex='2'), m…"
      ]
     },
     "metadata": {},
     "output_type": "display_data"
    },
    {
     "data": {
      "application/vnd.jupyter.widget-view+json": {
       "model_id": "",
       "version_major": 2,
       "version_minor": 0
      },
      "text/plain": [
       "HBox(children=(FloatProgress(value=1.0, bar_style='info', description='Validating', layout=Layout(flex='2'), m…"
      ]
     },
     "metadata": {},
     "output_type": "display_data"
    },
    {
     "data": {
      "application/vnd.jupyter.widget-view+json": {
       "model_id": "",
       "version_major": 2,
       "version_minor": 0
      },
      "text/plain": [
       "HBox(children=(FloatProgress(value=1.0, bar_style='info', description='Validating', layout=Layout(flex='2'), m…"
      ]
     },
     "metadata": {},
     "output_type": "display_data"
    },
    {
     "data": {
      "application/vnd.jupyter.widget-view+json": {
       "model_id": "",
       "version_major": 2,
       "version_minor": 0
      },
      "text/plain": [
       "HBox(children=(FloatProgress(value=1.0, bar_style='info', description='Validating', layout=Layout(flex='2'), m…"
      ]
     },
     "metadata": {},
     "output_type": "display_data"
    },
    {
     "data": {
      "application/vnd.jupyter.widget-view+json": {
       "model_id": "",
       "version_major": 2,
       "version_minor": 0
      },
      "text/plain": [
       "HBox(children=(FloatProgress(value=1.0, bar_style='info', description='Validating', layout=Layout(flex='2'), m…"
      ]
     },
     "metadata": {},
     "output_type": "display_data"
    },
    {
     "data": {
      "application/vnd.jupyter.widget-view+json": {
       "model_id": "",
       "version_major": 2,
       "version_minor": 0
      },
      "text/plain": [
       "HBox(children=(FloatProgress(value=1.0, bar_style='info', description='Validating', layout=Layout(flex='2'), m…"
      ]
     },
     "metadata": {},
     "output_type": "display_data"
    },
    {
     "data": {
      "application/vnd.jupyter.widget-view+json": {
       "model_id": "",
       "version_major": 2,
       "version_minor": 0
      },
      "text/plain": [
       "HBox(children=(FloatProgress(value=1.0, bar_style='info', description='Validating', layout=Layout(flex='2'), m…"
      ]
     },
     "metadata": {},
     "output_type": "display_data"
    },
    {
     "data": {
      "application/vnd.jupyter.widget-view+json": {
       "model_id": "",
       "version_major": 2,
       "version_minor": 0
      },
      "text/plain": [
       "HBox(children=(FloatProgress(value=1.0, bar_style='info', description='Validating', layout=Layout(flex='2'), m…"
      ]
     },
     "metadata": {},
     "output_type": "display_data"
    },
    {
     "data": {
      "application/vnd.jupyter.widget-view+json": {
       "model_id": "",
       "version_major": 2,
       "version_minor": 0
      },
      "text/plain": [
       "HBox(children=(FloatProgress(value=1.0, bar_style='info', description='Validating', layout=Layout(flex='2'), m…"
      ]
     },
     "metadata": {},
     "output_type": "display_data"
    },
    {
     "data": {
      "application/vnd.jupyter.widget-view+json": {
       "model_id": "",
       "version_major": 2,
       "version_minor": 0
      },
      "text/plain": [
       "HBox(children=(FloatProgress(value=1.0, bar_style='info', description='Validating', layout=Layout(flex='2'), m…"
      ]
     },
     "metadata": {},
     "output_type": "display_data"
    },
    {
     "data": {
      "application/vnd.jupyter.widget-view+json": {
       "model_id": "",
       "version_major": 2,
       "version_minor": 0
      },
      "text/plain": [
       "HBox(children=(FloatProgress(value=1.0, bar_style='info', description='Validating', layout=Layout(flex='2'), m…"
      ]
     },
     "metadata": {},
     "output_type": "display_data"
    },
    {
     "data": {
      "application/vnd.jupyter.widget-view+json": {
       "model_id": "",
       "version_major": 2,
       "version_minor": 0
      },
      "text/plain": [
       "HBox(children=(FloatProgress(value=1.0, bar_style='info', description='Validating', layout=Layout(flex='2'), m…"
      ]
     },
     "metadata": {},
     "output_type": "display_data"
    },
    {
     "data": {
      "application/vnd.jupyter.widget-view+json": {
       "model_id": "",
       "version_major": 2,
       "version_minor": 0
      },
      "text/plain": [
       "HBox(children=(FloatProgress(value=1.0, bar_style='info', description='Validating', layout=Layout(flex='2'), m…"
      ]
     },
     "metadata": {},
     "output_type": "display_data"
    },
    {
     "data": {
      "application/vnd.jupyter.widget-view+json": {
       "model_id": "",
       "version_major": 2,
       "version_minor": 0
      },
      "text/plain": [
       "HBox(children=(FloatProgress(value=1.0, bar_style='info', description='Validating', layout=Layout(flex='2'), m…"
      ]
     },
     "metadata": {},
     "output_type": "display_data"
    },
    {
     "data": {
      "application/vnd.jupyter.widget-view+json": {
       "model_id": "",
       "version_major": 2,
       "version_minor": 0
      },
      "text/plain": [
       "HBox(children=(FloatProgress(value=1.0, bar_style='info', description='Validating', layout=Layout(flex='2'), m…"
      ]
     },
     "metadata": {},
     "output_type": "display_data"
    },
    {
     "data": {
      "application/vnd.jupyter.widget-view+json": {
       "model_id": "",
       "version_major": 2,
       "version_minor": 0
      },
      "text/plain": [
       "HBox(children=(FloatProgress(value=1.0, bar_style='info', description='Validating', layout=Layout(flex='2'), m…"
      ]
     },
     "metadata": {},
     "output_type": "display_data"
    },
    {
     "data": {
      "application/vnd.jupyter.widget-view+json": {
       "model_id": "",
       "version_major": 2,
       "version_minor": 0
      },
      "text/plain": [
       "HBox(children=(FloatProgress(value=1.0, bar_style='info', description='Validating', layout=Layout(flex='2'), m…"
      ]
     },
     "metadata": {},
     "output_type": "display_data"
    },
    {
     "data": {
      "application/vnd.jupyter.widget-view+json": {
       "model_id": "",
       "version_major": 2,
       "version_minor": 0
      },
      "text/plain": [
       "HBox(children=(FloatProgress(value=1.0, bar_style='info', description='Validating', layout=Layout(flex='2'), m…"
      ]
     },
     "metadata": {},
     "output_type": "display_data"
    },
    {
     "data": {
      "application/vnd.jupyter.widget-view+json": {
       "model_id": "",
       "version_major": 2,
       "version_minor": 0
      },
      "text/plain": [
       "HBox(children=(FloatProgress(value=1.0, bar_style='info', description='Validating', layout=Layout(flex='2'), m…"
      ]
     },
     "metadata": {},
     "output_type": "display_data"
    },
    {
     "data": {
      "application/vnd.jupyter.widget-view+json": {
       "model_id": "",
       "version_major": 2,
       "version_minor": 0
      },
      "text/plain": [
       "HBox(children=(FloatProgress(value=1.0, bar_style='info', description='Validating', layout=Layout(flex='2'), m…"
      ]
     },
     "metadata": {},
     "output_type": "display_data"
    },
    {
     "data": {
      "application/vnd.jupyter.widget-view+json": {
       "model_id": "",
       "version_major": 2,
       "version_minor": 0
      },
      "text/plain": [
       "HBox(children=(FloatProgress(value=1.0, bar_style='info', description='Validating', layout=Layout(flex='2'), m…"
      ]
     },
     "metadata": {},
     "output_type": "display_data"
    },
    {
     "data": {
      "application/vnd.jupyter.widget-view+json": {
       "model_id": "",
       "version_major": 2,
       "version_minor": 0
      },
      "text/plain": [
       "HBox(children=(FloatProgress(value=1.0, bar_style='info', description='Validating', layout=Layout(flex='2'), m…"
      ]
     },
     "metadata": {},
     "output_type": "display_data"
    },
    {
     "data": {
      "application/vnd.jupyter.widget-view+json": {
       "model_id": "",
       "version_major": 2,
       "version_minor": 0
      },
      "text/plain": [
       "HBox(children=(FloatProgress(value=1.0, bar_style='info', description='Validating', layout=Layout(flex='2'), m…"
      ]
     },
     "metadata": {},
     "output_type": "display_data"
    },
    {
     "data": {
      "application/vnd.jupyter.widget-view+json": {
       "model_id": "",
       "version_major": 2,
       "version_minor": 0
      },
      "text/plain": [
       "HBox(children=(FloatProgress(value=1.0, bar_style='info', description='Validating', layout=Layout(flex='2'), m…"
      ]
     },
     "metadata": {},
     "output_type": "display_data"
    },
    {
     "name": "stdout",
     "output_type": "stream",
     "text": [
      "\n"
     ]
    },
    {
     "data": {
      "text/plain": [
       "1"
      ]
     },
     "execution_count": 11,
     "metadata": {},
     "output_type": "execute_result"
    }
   ],
   "source": [
    "from TransformerClassifier import TransformerClassifier\n",
    "from Validation_model import Net\n",
    "net = TransformerClassifier(in_channels = 27, output_size = 7, d_model = 100, nhead = 1, dim_feedforward = 2048,)\n",
    "model = Net(model = net, classes_weight = torch.tensor(train_weight, dtype = torch.float))\n",
    "\n",
    "trainer = pl.Trainer(gpus=-1,\n",
    "                     max_epochs=100,\n",
    "                    #  limit_train_batches=0.1,\n",
    "                    #  limit_val_batches=0.1,\n",
    "                     log_every_n_steps = 200,\n",
    "                     callbacks = [EarlyStopping(monitor = \"val_f1_score\", patience = 3, mode = \"max\")],\n",
    "                     logger = TensorBoardLogger(save_dir = 'logs/', name = \"PAMAP2_transformer_model\"),\n",
    "                     )\n",
    "trainer.fit(model, train_iter, val_iter)"
   ]
  },
  {
   "cell_type": "markdown",
   "metadata": {},
   "source": [
    "## Saved Model Score\n",
    "Location : logs/PAMAP2_LSTM/version_2/checkpoints/epoch=8.ckpt\n",
    "\n",
    "F1 Score : 96.21%\n",
    "\n",
    "Loss     : 0.1168\n",
    "\n",
    "## Parameters\n",
    "LR           : 0.0001\n",
    "\n",
    "Optimizer    : Adamax\n",
    "\n",
    "Epochs       : 8\n",
    "\n",
    "LR Scheduler : None\n",
    "\n",
    "hidden_size : 256\n",
    "\n",
    "## Saved Model Score\n",
    "Location : logs/PAMAP2_transformer/version_11/checkpoints/epoch=49.ckpt\n",
    "\n",
    "F1 Score : 96.96%\n",
    "\n",
    "Loss     : 0.1113\n",
    "\n",
    "## Parameters\n",
    "LR           : 0.0001\n",
    "\n",
    "Optimizer    : Adamax\n",
    "\n",
    "Epochs       : 49\n",
    "\n",
    "LR Scheduler : None\n",
    "\n",
    "in_channels = 27, output_size = 7, d_model = 100, nhead = 1, dim_feedforward = 2048, "
   ]
  },
  {
   "cell_type": "code",
   "execution_count": null,
   "metadata": {},
   "outputs": [],
   "source": []
  }
 ],
 "metadata": {
  "kernelspec": {
   "display_name": "Python 3",
   "language": "python",
   "name": "python3"
  },
  "language_info": {
   "codemirror_mode": {
    "name": "ipython",
    "version": 3
   },
   "file_extension": ".py",
   "mimetype": "text/x-python",
   "name": "python",
   "nbconvert_exporter": "python",
   "pygments_lexer": "ipython3",
   "version": "3.6.9"
  }
 },
 "nbformat": 4,
 "nbformat_minor": 4
}
