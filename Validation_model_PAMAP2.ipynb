{
 "cells": [
  {
   "cell_type": "code",
   "execution_count": 1,
   "metadata": {},
   "outputs": [],
   "source": [
    "%load_ext autoreload\n",
    "%autoreload 2\n",
    "\n",
    "import torch\n",
    "import torch.nn as nn\n",
    "import numpy as np\n",
    "\n",
    "import pytorch_lightning as pl\n",
    "from pytorch_lightning.metrics.functional.classification import f1_score, confusion_matrix\n",
    "from pytorch_lightning.callbacks.early_stopping import EarlyStopping\n",
    "from pytorch_lightning.loggers import TensorBoardLogger"
   ]
  },
  {
   "cell_type": "markdown",
   "metadata": {},
   "source": [
    "## Data Loading"
   ]
  },
  {
   "cell_type": "code",
   "execution_count": 5,
   "metadata": {},
   "outputs": [
    {
     "name": "stdout",
     "output_type": "stream",
     "text": [
      "File exists. Loading\n",
      "Windowing\n",
      "Done!\n",
      "[[0.15388763]\n",
      " [0.14817211]\n",
      " [0.15205435]\n",
      " [0.18462202]\n",
      " [0.07732126]\n",
      " [0.13566268]\n",
      " [0.14827995]] [[0.1592233 ]\n",
      " [0.15177994]\n",
      " [0.15404531]\n",
      " [0.18802589]\n",
      " [0.07605178]\n",
      " [0.12006472]\n",
      " [0.15080906]]\n"
     ]
    }
   ],
   "source": [
    "import helper\n",
    "data = helper.load_PAMAP2()\n",
    "\n",
    "from dataset import TimeSeriesDataset\n",
    "dtset = TimeSeriesDataset(data)\n",
    "\n",
    "weight = helper.dist(dtset, 7)\n",
    "\n",
    "train, val = helper.split(dtset, val_pc = 0.25)\n",
    "train_weight = helper.dist(train, 7)\n",
    "val_weight = helper.dist(val, 7)\n",
    "print(train_weight, val_weight)\n",
    "train_iter = torch.utils.data.DataLoader(train, batch_size = 32, shuffle = True, num_workers = 8, pin_memory = True)\n",
    "val_iter = torch.utils.data.DataLoader(val, batch_size = 32, num_workers = 8, pin_memory = True)"
   ]
  },
  {
   "cell_type": "markdown",
   "metadata": {},
   "source": [
    "## Model"
   ]
  },
  {
   "cell_type": "code",
   "execution_count": 3,
   "metadata": {},
   "outputs": [],
   "source": [
    "# from DeepConvLSTM_model import DeepConvNet\n",
    "\n",
    "# class Net(pl.LightningModule):\n",
    "#     def __init__(self, in_channels = 3,hidden_size = 128, output_size = 7, classes_weight = None):\n",
    "#         super(Net,self).__init__()\n",
    "#         self.model = DeepConvNet(in_channels, hidden_size, output_size)\n",
    "#         self.criterion = nn.CrossEntropyLoss(weight = classes_weight);\n",
    "        \n",
    "#     def forward(self, input_seq):\n",
    "#         return self.model(input_seq)\n",
    "    \n",
    "#     def configure_optimizers(self):\n",
    "#         return torch.optim.Adamax(self.parameters(), lr=0.0001)\n",
    "    \n",
    "#     def training_step(self, batch, batch_idx):\n",
    "#         y_pred = self(batch[\"data\"])\n",
    "#         loss = self.criterion(y_pred, batch[\"label\"])\n",
    "#         self.log('train_loss', loss, on_step = False, on_epoch = True, prog_bar = False, logger = True)\n",
    "#         self.log('train_f1_score', f1_score(y_pred, batch[\"label\"], class_reduction = \"micro\"), on_step = False, on_epoch = True, prog_bar = True, logger = True)\n",
    "#         return loss\n",
    "    \n",
    "#     def validation_step(self, batch, batch_idx):\n",
    "#         y_pred = self(batch[\"data\"])\n",
    "#         loss = self.criterion(y_pred, batch[\"label\"])\n",
    "#         self.log('val_loss', loss, on_step = False, on_epoch = True, prog_bar = False, logger = True)\n",
    "#         self.log('val_f1_score', f1_score(y_pred, batch[\"label\"], class_reduction = \"micro\"), on_step = False, on_epoch = True, prog_bar = True, logger = True)\n",
    "#         return loss"
   ]
  },
  {
   "cell_type": "markdown",
   "metadata": {},
   "source": [
    "## Training"
   ]
  },
  {
   "cell_type": "code",
   "execution_count": 1,
   "metadata": {},
   "outputs": [
    {
     "ename": "ModuleNotFoundError",
     "evalue": "No module named 'torch'",
     "output_type": "error",
     "traceback": [
      "\u001b[0;31m---------------------------------------------------------------------------\u001b[0m",
      "\u001b[0;31mModuleNotFoundError\u001b[0m                       Traceback (most recent call last)",
      "\u001b[0;32m<ipython-input-1-2e56c73b3352>\u001b[0m in \u001b[0;36m<module>\u001b[0;34m\u001b[0m\n\u001b[0;32m----> 1\u001b[0;31m \u001b[0;32mfrom\u001b[0m \u001b[0mDeepConvLSTM_model\u001b[0m \u001b[0;32mimport\u001b[0m \u001b[0mDeepConvNet\u001b[0m\u001b[0;34m\u001b[0m\u001b[0;34m\u001b[0m\u001b[0m\n\u001b[0m\u001b[1;32m      2\u001b[0m \u001b[0;32mfrom\u001b[0m \u001b[0mValidation_model\u001b[0m \u001b[0;32mimport\u001b[0m \u001b[0mNet\u001b[0m\u001b[0;34m\u001b[0m\u001b[0;34m\u001b[0m\u001b[0m\n\u001b[1;32m      3\u001b[0m \u001b[0mnet\u001b[0m \u001b[0;34m=\u001b[0m \u001b[0mDeepConvNet\u001b[0m\u001b[0;34m(\u001b[0m\u001b[0minchannels\u001b[0m \u001b[0;34m=\u001b[0m \u001b[0;36m3\u001b[0m\u001b[0;34m,\u001b[0m \u001b[0mhidden_size\u001b[0m \u001b[0;34m=\u001b[0m \u001b[0;36m256\u001b[0m\u001b[0;34m,\u001b[0m \u001b[0moutput_size\u001b[0m \u001b[0;34m=\u001b[0m \u001b[0;36m7\u001b[0m\u001b[0;34m)\u001b[0m\u001b[0;34m\u001b[0m\u001b[0;34m\u001b[0m\u001b[0m\n\u001b[1;32m      4\u001b[0m \u001b[0mmodel\u001b[0m \u001b[0;34m=\u001b[0m \u001b[0mNet\u001b[0m\u001b[0;34m(\u001b[0m\u001b[0mmodel\u001b[0m \u001b[0;34m=\u001b[0m \u001b[0mnet\u001b[0m\u001b[0;34m,\u001b[0m \u001b[0mclasses_weight\u001b[0m \u001b[0;34m=\u001b[0m \u001b[0mtorch\u001b[0m\u001b[0;34m.\u001b[0m\u001b[0mtensor\u001b[0m\u001b[0;34m(\u001b[0m\u001b[0mtrain_weight\u001b[0m\u001b[0;34m,\u001b[0m \u001b[0mdtype\u001b[0m \u001b[0;34m=\u001b[0m \u001b[0mtorch\u001b[0m\u001b[0;34m.\u001b[0m\u001b[0mfloat\u001b[0m\u001b[0;34m)\u001b[0m\u001b[0;34m)\u001b[0m\u001b[0;34m\u001b[0m\u001b[0;34m\u001b[0m\u001b[0m\n\u001b[1;32m      5\u001b[0m \u001b[0;34m\u001b[0m\u001b[0m\n",
      "\u001b[0;32m~/Data-Augmentation/DeepConvLSTM_model.py\u001b[0m in \u001b[0;36m<module>\u001b[0;34m\u001b[0m\n\u001b[0;32m----> 1\u001b[0;31m \u001b[0;32mimport\u001b[0m \u001b[0mtorch\u001b[0m\u001b[0;34m\u001b[0m\u001b[0;34m\u001b[0m\u001b[0m\n\u001b[0m\u001b[1;32m      2\u001b[0m \u001b[0;32mimport\u001b[0m \u001b[0mtorch\u001b[0m\u001b[0;34m.\u001b[0m\u001b[0mnn\u001b[0m \u001b[0;32mas\u001b[0m \u001b[0mnn\u001b[0m\u001b[0;34m\u001b[0m\u001b[0;34m\u001b[0m\u001b[0m\n\u001b[1;32m      3\u001b[0m \u001b[0;32mfrom\u001b[0m \u001b[0mBasicConvs\u001b[0m \u001b[0;32mimport\u001b[0m \u001b[0mBasicConv2d\u001b[0m\u001b[0;34m\u001b[0m\u001b[0;34m\u001b[0m\u001b[0m\n\u001b[1;32m      4\u001b[0m \u001b[0;34m\u001b[0m\u001b[0m\n\u001b[1;32m      5\u001b[0m \u001b[0;32mclass\u001b[0m \u001b[0mDeepConvNet\u001b[0m\u001b[0;34m(\u001b[0m\u001b[0mnn\u001b[0m\u001b[0;34m.\u001b[0m\u001b[0mModule\u001b[0m\u001b[0;34m)\u001b[0m\u001b[0;34m:\u001b[0m\u001b[0;34m\u001b[0m\u001b[0;34m\u001b[0m\u001b[0m\n",
      "\u001b[0;31mModuleNotFoundError\u001b[0m: No module named 'torch'"
     ]
    }
   ],
   "source": [
    "from DeepConvLSTM_model import DeepConvNet\n",
    "from Validation_model import Net\n",
    "net = DeepConvNet(inchannels = 3, hidden_size = 256, output_size = 7)\n",
    "model = Net(model = net, classes_weight = torch.tensor(train_weight, dtype = torch.float))\n",
    "\n",
    "trainer = pl.Trainer(gpus=-1,\n",
    "                     max_epochs=20,\n",
    "                    #  limit_train_batches=0.1,\n",
    "                    #  limit_val_batches=0.1,\n",
    "                     log_every_n_steps = 200,\n",
    "                     callbacks = [EarlyStopping(monitor = \"val_f1_score\", patience = 3, mode = \"max\")],\n",
    "                     logger = TensorBoardLogger(save_dir = 'logs/', name = \"PAMAP2_LSTM_model\"),\n",
    "                     )\n",
    "trainer.fit(model, train_iter, val_iter)"
   ]
  },
  {
   "cell_type": "markdown",
   "metadata": {},
   "source": [
    "## Validation"
   ]
  },
  {
   "cell_type": "code",
   "execution_count": null,
   "metadata": {},
   "outputs": [],
   "source": [
    "val_model = DeepConvNet(hidden_size = 256)\n",
    "state_dict = torch.load(\"logs/PAMAP2_LSTM_model/version_2/checkpoints/epoch=8.ckpt\")[\"state_dict\"]\n",
    "state_dict = helper.remove_prefix_from_dict(\"model.\", state_dict)\n",
    "val_model.load_state_dict(state_dict, strict = False)\n",
    "val_model.eval()\n",
    "crit = nn.CrossEntropyLoss()\n",
    "\n",
    "for batch in val_iter:\n",
    "    data = batch[\"data\"]\n",
    "    label = batch[\"label\"]\n",
    "    output = val_model(data)\n",
    "    val_loss = crit(output, label)\n",
    "    print(\"Loss : \", val_loss, \"\\t\\t F1 score : \", f1_score(output, label, class_reduction = \"micro\"), \"\\n\")"
   ]
  },
  {
   "cell_type": "markdown",
   "metadata": {},
   "source": [
    "## Saved Model Score\n",
    "Location : logs/PAMAP2_LSTM/version_2/checkpoints/epoch=8.ckpt\n",
    "\n",
    "F1 Score : 96.21%\n",
    "\n",
    "Loss     : 0.1168\n",
    "\n",
    "## Parameters\n",
    "LR           : 0.0001\n",
    "\n",
    "Optimizer    : Adamax\n",
    "\n",
    "Epochs       : 8\n",
    "\n",
    "LR Scheduler : None\n",
    "\n",
    "hidden_size : 256"
   ]
  }
 ],
 "metadata": {
  "kernelspec": {
   "display_name": "Python 3",
   "language": "python",
   "name": "python3"
  },
  "language_info": {
   "codemirror_mode": {
    "name": "ipython",
    "version": 3
   },
   "file_extension": ".py",
   "mimetype": "text/x-python",
   "name": "python",
   "nbconvert_exporter": "python",
   "pygments_lexer": "ipython3",
   "version": "3.9.1"
  }
 },
 "nbformat": 4,
 "nbformat_minor": 4
}
